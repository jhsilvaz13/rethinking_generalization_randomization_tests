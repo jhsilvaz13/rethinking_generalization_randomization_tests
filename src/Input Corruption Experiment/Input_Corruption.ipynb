{
  "cells": [
    {
      "cell_type": "code",
      "execution_count": 9,
      "metadata": {
        "id": "K4fpoGNN7tVd"
      },
      "outputs": [],
      "source": [
        "import torch\n",
        "import torchvision\n",
        "import torchvision.transforms as transforms\n",
        "import torch.nn as nn\n",
        "import numpy as np\n",
        "import matplotlib.pyplot as plt\n",
        "import pickle"
      ]
    },
    {
      "cell_type": "code",
      "execution_count": 10,
      "metadata": {
        "id": "fpF9eBfUzJQi"
      },
      "outputs": [],
      "source": [
        "transform = transforms.Compose([transforms.ToTensor(),transforms.CenterCrop(28),transforms.Normalize((0.5, 0.5, 0.5), (0.5, 0.5, 0.5))])"
      ]
    },
    {
      "cell_type": "code",
      "execution_count": 11,
      "metadata": {
        "colab": {
          "base_uri": "https://localhost:8080/",
          "height": 100,
          "referenced_widgets": [
            "23b8d28c0aba41f5997da5169127d7ab",
            "01b8dfa64a9c4e67a32d9bb2d06b1407",
            "2de01d1e700c4a42a616d66ce0396840",
            "6f7e82e53b4045028da6cff4704d0cc9",
            "408c14aabf184ea78ef234c26b7c9eb7",
            "95dd8bc786ca4aa588a4b54fdb2b349c",
            "5c81bd4d40344c35b48021ab4ca335e4",
            "45371e2d62bc4d36b58e3479064fb964"
          ]
        },
        "id": "FYeskUTS7lu3",
        "outputId": "aa4f5ba7-a24f-439d-a7d2-9094192b762d"
      },
      "outputs": [
        {
          "name": "stdout",
          "output_type": "stream",
          "text": [
            "Files already downloaded and verified\n"
          ]
        }
      ],
      "source": [
        "trainset = torchvision.datasets.CIFAR10(root='./CIFAR', train=True, download=True, transform=transform)\n",
        "testset = torchvision.datasets.CIFAR10(root='./CIFAR', train=False, transform=transform)"
      ]
    },
    {
      "cell_type": "code",
      "execution_count": 12,
      "metadata": {
        "id": "kA0e2l4a7yL3"
      },
      "outputs": [],
      "source": [
        "trainloader = torch.utils.data.DataLoader(trainset,batch_size=32, shuffle=True, num_workers=2,pin_memory=True)\n",
        "testloader = torch.utils.data.DataLoader(testset,batch_size=32, shuffle=False, num_workers=2,pin_memory=True)"
      ]
    },
    {
      "cell_type": "code",
      "execution_count": 13,
      "metadata": {
        "id": "RKffneOVzAC0"
      },
      "outputs": [],
      "source": [
        "class ConvModule(nn.Module):\n",
        "    def __init__(self, in_channels, out_channels, kernel_size, stride, padding):\n",
        "        super(ConvModule, self).__init__()\n",
        "        \n",
        "        self.conv = nn.Conv2d(in_channels, out_channels, kernel_size, stride, padding)\n",
        "        self.bn = nn.BatchNorm2d(out_channels)\n",
        "        self.act = nn.ReLU()\n",
        "        \n",
        "    def forward(self, x):\n",
        "        x = self.conv(x)\n",
        "        x = self.bn(x)\n",
        "        x = self.act(x)\n",
        "        return x\n",
        " \n",
        "class InceptionModule(nn.Module):\n",
        "    \n",
        "    def __init__(self, in_channels, f_1x1, f_3x3):\n",
        "        super(InceptionModule, self).__init__()\n",
        "        \n",
        "        self.branch1 = nn.Sequential(\n",
        "            ConvModule(in_channels, f_1x1, kernel_size=1, stride=1, padding=0)\n",
        "        )\n",
        "        \n",
        "        self.branch2 = nn.Sequential(\n",
        "            ConvModule(in_channels, f_3x3, kernel_size=3, stride=1, padding=1)\n",
        "        )\n",
        "                \n",
        "    def forward(self, x):\n",
        "        branch1 = self.branch1(x)\n",
        "        branch2 = self.branch2(x)\n",
        "        return torch.cat([branch1, branch2], 1)\n",
        "\n",
        "\n",
        "class DownsampleModule(nn.Module):\n",
        "    def __init__(self, in_channels, f_3x3):\n",
        "        super(DownsampleModule, self).__init__()\n",
        "    \n",
        "        self.branch1 = nn.Sequential(ConvModule(in_channels, f_3x3, kernel_size=3, stride=2, padding=0))\n",
        "        self.branch2 = nn.MaxPool2d(3, stride=2)\n",
        "    \n",
        "    def forward(self, x):\n",
        "        branch1 = self.branch1(x)\n",
        "        branch2 = self.branch2(x)\n",
        "        return torch.cat([branch1, branch2], 1)\n",
        "   \n",
        "class InceptionSmall(nn.Module):\n",
        "    def __init__(self, num_classes = 10):\n",
        "        super(InceptionSmall, self).__init__()\n",
        "        \n",
        "        self.conv1 = ConvModule(in_channels =3,out_channels=96, kernel_size=3, stride=1, padding=0)\n",
        "        self.inception1 = InceptionModule(in_channels=96,f_1x1=32,f_3x3=32)\n",
        "        self.inception2 = InceptionModule(in_channels=64,f_1x1=32,f_3x3=48)\n",
        "        self.down1 = DownsampleModule(in_channels=80,f_3x3=80)\n",
        "        self.inception3 = InceptionModule(in_channels=160,f_1x1=112,f_3x3=48)\n",
        "        self.inception4 = InceptionModule(in_channels=160,f_1x1=96,f_3x3=64)\n",
        "        self.inception5 = InceptionModule(in_channels=160,f_1x1=80,f_3x3=80)\n",
        "        self.inception6 = InceptionModule(in_channels=160,f_1x1=48,f_3x3=96)   \n",
        "        self.down2 = DownsampleModule(in_channels=144,f_3x3=96)\n",
        "        self.inception7 = InceptionModule(in_channels=240,f_1x1=176,f_3x3=160)\n",
        "        self.inception8 = InceptionModule(in_channels=336,f_1x1=176,f_3x3=160)\n",
        "        self.meanpool = nn.AdaptiveAvgPool2d((7,7))\n",
        "        self.fc = nn.Linear(16464, num_classes)\n",
        "       \n",
        "    def forward(self, x):\n",
        "        x = self.conv1(x)\n",
        "        x = self.inception1(x)\n",
        "        x = self.inception2(x)\n",
        "        x = self.down1(x)\n",
        "        x = self.inception3(x)\n",
        "        x = self.inception4(x)\n",
        "        x = self.inception5(x)\n",
        "        x = self.inception6(x)\n",
        "        x = self.down2(x)\n",
        "        x = self.inception7(x)\n",
        "        x = self.inception8(x)\n",
        "        x = self.meanpool(x)\n",
        "        x = torch.flatten(x,1)\n",
        "        x = self.fc(x)\n",
        "        return x"
      ]
    },
    {
      "cell_type": "code",
      "execution_count": 14,
      "metadata": {
        "colab": {
          "base_uri": "https://localhost:8080/"
        },
        "id": "0Mo8l9Y_76_T",
        "outputId": "80ddb611-1a61-4c5d-da5c-9599dd155e6d"
      },
      "outputs": [
        {
          "data": {
            "text/plain": [
              "device(type='cpu')"
            ]
          },
          "execution_count": 14,
          "metadata": {},
          "output_type": "execute_result"
        }
      ],
      "source": [
        "def get_device():\n",
        "  if torch.cuda.is_available():\n",
        "      return torch.device('cuda')\n",
        "  else:\n",
        "      return torch.device('cpu')\n",
        "device = get_device()\n",
        "device"
      ]
    },
    {
      "cell_type": "code",
      "execution_count": 15,
      "metadata": {
        "id": "YcszL06Dw0ZA"
      },
      "outputs": [],
      "source": [
        "def get_gaussian_image(batch, w, h):\n",
        "    # CIFAR 10 mean and std in RGB format. Source: https://github.com/facebookarchive/fb.resnet.torch/issues/180\n",
        "    mean = [125.3, 123.0, 113.9]\n",
        "    std = [63.0, 62.1, 66.7]\n",
        "    out = list()\n",
        "    for i in range(batch):\n",
        "        r_channel = torch.normal(mean[0], std[0], size=(w, h)).unsqueeze(0)\n",
        "        g_channel = torch.normal(mean[1], std[1], size=(w, h)).unsqueeze(0)\n",
        "        b_channel = torch.normal(mean[2], std[2], size=(w, h)).unsqueeze(0)\n",
        "        out.append(torch.cat((r_channel, g_channel, b_channel), dim=0).unsqueeze(0))\n",
        "    return torch.cat(out, dim=0)\n",
        "\n",
        "def eval_model(model,trainloader,testloader):\n",
        "  model.eval()\n",
        "  correct = 0\n",
        "  total = 0\n",
        "  for i, data in enumerate(testloader, 0):\n",
        "    images, labels = data[0].to(device), data[1].to(device)\n",
        "    outputs = model(images)\n",
        "    _, preds = torch.max(outputs, dim=1)\n",
        "    total += labels.size(0)\n",
        "    correct += (preds == labels).sum().item()\n",
        "  acc_v = (correct / total)\n",
        "\n",
        "  correct = 0\n",
        "  total = 0            \n",
        "  for i, data in enumerate(trainloader, 0):\n",
        "    images, labels = data[0].to(device), data[1].to(device)\n",
        "    outputs = model(images)\n",
        "    _, preds = torch.max(outputs, dim=1)\n",
        "    total += labels.size(0)\n",
        "    correct += (preds == labels).sum().item()\n",
        "  acc_t = (correct / total)\n",
        "  return acc_t,acc_v\n",
        "\n",
        "def fit(epoch, model, trainloader, testloader, optimizer,scheduler,name='model', random_shuffle=False, shuffled_pixels=False, random_pixels=False, gaussian_noise=False):\n",
        "  history_t = []\n",
        "  history_v = []\n",
        "  history_loss = []\n",
        "  step_count = 0\n",
        "  criterion = nn.CrossEntropyLoss().to(device)\n",
        "  if random_pixels:\n",
        "    rng = np.random.default_rng()\n",
        "  for epoch in range(epoch):  \n",
        "    running_loss = 0.0\n",
        "    for i, data in enumerate(trainloader, 0):\n",
        "      inputs, labels = data[0].to(device), data[1].to(device)\n",
        "      if random_shuffle:\n",
        "        # The permutation should be the same for every epoch\n",
        "        torch.manual_seed(0)\n",
        "        labels = labels[torch.randperm(len(labels))]\n",
        "      if shuffled_pixels:\n",
        "        data_ = inputs.cpu().numpy()\n",
        "        # Resetting the random generator every time to generate the same set of permutation\n",
        "        rng = np.random.default_rng(26)\n",
        "        data_perm = rng.permutation(data_, axis=2)\n",
        "        data = torch.from_numpy(data_perm)\n",
        "      if random_pixels:\n",
        "        data_ = inputs.cpu().numpy()\n",
        "        # Generating a different set of permutation every time\n",
        "        data_perm = rng.permutation(data_, axis=2)\n",
        "        data = torch.from_numpy(data_perm)\n",
        "      if gaussian_noise:\n",
        "        batch = inputs.shape[0]\n",
        "        w = inputs.shape[-1]\n",
        "        h = inputs.shape[-2]\n",
        "        data = get_gaussian_image(batch, w, h)\n",
        "      optimizer.zero_grad()\n",
        "      outputs = model(inputs)\n",
        "      loss = criterion(outputs, labels)\n",
        "      loss.backward()\n",
        "      optimizer.step()\n",
        "      running_loss += loss.item()\n",
        "      step_count += 1\n",
        "      if step_count%1000==0:\n",
        "        acc_t,acc_v = eval_model(model,trainloader,testloader)\n",
        "        model.train()\n",
        "        history_t.append(acc_t)\n",
        "        history_v.append(acc_v)\n",
        "        log_ = str(step_count)+\",\"+str(acc_t)+\",\"+str(acc_v)+ \",\" + str(running_loss/1000)+\"\\n\"\n",
        "        with open(\"{}.log\".format(name), \"a\") as f:\n",
        "          f.write(log_)\n",
        "    print(\"Epoch {} | loss: {:.4f} | Train acc: {:.4f} | Val acc: {:.4f}\".format(epoch+1, running_loss/1000,acc_t, acc_v))\n",
        "    history_loss.append(running_loss/1000)\n",
        "    scheduler.step()\n",
        "  return model,history_t,history_v, history_loss"
      ]
    },
    {
      "cell_type": "code",
      "execution_count": null,
      "metadata": {},
      "outputs": [],
      "source": [
        "final_dict = dict()"
      ]
    },
    {
      "cell_type": "markdown",
      "metadata": {},
      "source": [
        "# Shuffled Pixels"
      ]
    },
    {
      "cell_type": "code",
      "execution_count": null,
      "metadata": {
        "colab": {
          "base_uri": "https://localhost:8080/"
        },
        "id": "DHayOjg__ayj",
        "outputId": "1aa2ffc9-0d8f-41cb-ffe1-0b6ecf5b4a48"
      },
      "outputs": [
        {
          "name": "stdout",
          "output_type": "stream",
          "text": [
            "Epoch 1 | loss: 3.9697 | Train acc: 0.1001 | Val acc: 0.1001\n",
            "Epoch 2 | loss: 3.6089 | Train acc: 0.1000 | Val acc: 0.1001\n",
            "Epoch 3 | loss: 3.6095 | Train acc: 0.1000 | Val acc: 0.0998\n",
            "Epoch 4 | loss: 3.6072 | Train acc: 0.1001 | Val acc: 0.1001\n",
            "Epoch 5 | loss: 3.3799 | Train acc: 0.1808 | Val acc: 0.1814\n",
            "Epoch 6 | loss: 2.9482 | Train acc: 0.3498 | Val acc: 0.3490\n",
            "Epoch 7 | loss: 2.6498 | Train acc: 0.3937 | Val acc: 0.3923\n",
            "Epoch 8 | loss: 2.4685 | Train acc: 0.4330 | Val acc: 0.4335\n",
            "Epoch 9 | loss: 2.3330 | Train acc: 0.4811 | Val acc: 0.4714\n",
            "Epoch 10 | loss: 2.2021 | Train acc: 0.5125 | Val acc: 0.4985\n",
            "Epoch 11 | loss: 2.0730 | Train acc: 0.5291 | Val acc: 0.5140\n",
            "Epoch 12 | loss: 1.9530 | Train acc: 0.5699 | Val acc: 0.5546\n",
            "Epoch 13 | loss: 1.8414 | Train acc: 0.6086 | Val acc: 0.5822\n",
            "Epoch 14 | loss: 1.7400 | Train acc: 0.6170 | Val acc: 0.5945\n",
            "Epoch 15 | loss: 1.6440 | Train acc: 0.6610 | Val acc: 0.6171\n",
            "Epoch 16 | loss: 1.5598 | Train acc: 0.6783 | Val acc: 0.6372\n",
            "Epoch 17 | loss: 1.4801 | Train acc: 0.6860 | Val acc: 0.6391\n",
            "Epoch 18 | loss: 1.4098 | Train acc: 0.7137 | Val acc: 0.6582\n",
            "Epoch 19 | loss: 1.3406 | Train acc: 0.7286 | Val acc: 0.6634\n",
            "Epoch 20 | loss: 1.2774 | Train acc: 0.7264 | Val acc: 0.6598\n",
            "Epoch 21 | loss: 1.2193 | Train acc: 0.7494 | Val acc: 0.6728\n",
            "Epoch 22 | loss: 1.1626 | Train acc: 0.7697 | Val acc: 0.6812\n",
            "Epoch 23 | loss: 1.1190 | Train acc: 0.7799 | Val acc: 0.6861\n",
            "Epoch 24 | loss: 1.0528 | Train acc: 0.7930 | Val acc: 0.6854\n",
            "Epoch 25 | loss: 1.0051 | Train acc: 0.7968 | Val acc: 0.6826\n",
            "Epoch 26 | loss: 0.9420 | Train acc: 0.8205 | Val acc: 0.6942\n",
            "Epoch 27 | loss: 0.8975 | Train acc: 0.8417 | Val acc: 0.6973\n",
            "Epoch 28 | loss: 0.8481 | Train acc: 0.8426 | Val acc: 0.6932\n",
            "Epoch 29 | loss: 0.8000 | Train acc: 0.8567 | Val acc: 0.6919\n",
            "Epoch 30 | loss: 0.7451 | Train acc: 0.8566 | Val acc: 0.6853\n",
            "Epoch 31 | loss: 0.7032 | Train acc: 0.8824 | Val acc: 0.6938\n",
            "Epoch 32 | loss: 0.6514 | Train acc: 0.8875 | Val acc: 0.6951\n",
            "Epoch 33 | loss: 0.6081 | Train acc: 0.9041 | Val acc: 0.6854\n",
            "Epoch 34 | loss: 0.5610 | Train acc: 0.9158 | Val acc: 0.6945\n",
            "Epoch 35 | loss: 0.5218 | Train acc: 0.9153 | Val acc: 0.6924\n",
            "Epoch 36 | loss: 0.4857 | Train acc: 0.9298 | Val acc: 0.6904\n",
            "Epoch 37 | loss: 0.4455 | Train acc: 0.9297 | Val acc: 0.6859\n",
            "Epoch 38 | loss: 0.4086 | Train acc: 0.9436 | Val acc: 0.6861\n",
            "Epoch 39 | loss: 0.3749 | Train acc: 0.9426 | Val acc: 0.6846\n",
            "Epoch 40 | loss: 0.3476 | Train acc: 0.9527 | Val acc: 0.6926\n",
            "Epoch 41 | loss: 0.3164 | Train acc: 0.9640 | Val acc: 0.6896\n",
            "Epoch 42 | loss: 0.2892 | Train acc: 0.9730 | Val acc: 0.6878\n",
            "Epoch 43 | loss: 0.2607 | Train acc: 0.9743 | Val acc: 0.6873\n",
            "Epoch 44 | loss: 0.2365 | Train acc: 0.9776 | Val acc: 0.6902\n",
            "Epoch 45 | loss: 0.2144 | Train acc: 0.9816 | Val acc: 0.6911\n",
            "Epoch 46 | loss: 0.1938 | Train acc: 0.9828 | Val acc: 0.6913\n",
            "Epoch 47 | loss: 0.1803 | Train acc: 0.9807 | Val acc: 0.6865\n",
            "Epoch 48 | loss: 0.1590 | Train acc: 0.9886 | Val acc: 0.6934\n",
            "Epoch 49 | loss: 0.1455 | Train acc: 0.9907 | Val acc: 0.6879\n",
            "Epoch 50 | loss: 0.1355 | Train acc: 0.9923 | Val acc: 0.6910\n",
            "Epoch 51 | loss: 0.1184 | Train acc: 0.9941 | Val acc: 0.6893\n",
            "Epoch 52 | loss: 0.1157 | Train acc: 0.9919 | Val acc: 0.6882\n",
            "Epoch 53 | loss: 0.1064 | Train acc: 0.9956 | Val acc: 0.6908\n",
            "Epoch 54 | loss: 0.0976 | Train acc: 0.9963 | Val acc: 0.6894\n",
            "Epoch 55 | loss: 0.0821 | Train acc: 0.9976 | Val acc: 0.6947\n",
            "Epoch 56 | loss: 0.0813 | Train acc: 0.9973 | Val acc: 0.6912\n",
            "Epoch 57 | loss: 0.0688 | Train acc: 0.9984 | Val acc: 0.6978\n",
            "Epoch 58 | loss: 0.0591 | Train acc: 0.9988 | Val acc: 0.6929\n",
            "Epoch 59 | loss: 0.0585 | Train acc: 0.9991 | Val acc: 0.6949\n",
            "Epoch 60 | loss: 0.0562 | Train acc: 0.9994 | Val acc: 0.6899\n",
            "Epoch 61 | loss: 0.0498 | Train acc: 0.9983 | Val acc: 0.6848\n",
            "Epoch 62 | loss: 0.0448 | Train acc: 0.9988 | Val acc: 0.6936\n",
            "Epoch 63 | loss: 0.0421 | Train acc: 0.9993 | Val acc: 0.6947\n",
            "Epoch 64 | loss: 0.0370 | Train acc: 0.9996 | Val acc: 0.6948\n",
            "Epoch 65 | loss: 0.0349 | Train acc: 0.9998 | Val acc: 0.6956\n",
            "Epoch 66 | loss: 0.0295 | Train acc: 0.9997 | Val acc: 0.6942\n",
            "Epoch 67 | loss: 0.0299 | Train acc: 0.9999 | Val acc: 0.6966\n",
            "Epoch 68 | loss: 0.0274 | Train acc: 0.9998 | Val acc: 0.6942\n",
            "Epoch 69 | loss: 0.0304 | Train acc: 0.9999 | Val acc: 0.6944\n",
            "Epoch 70 | loss: 0.0239 | Train acc: 0.9999 | Val acc: 0.6952\n",
            "Epoch 71 | loss: 0.0239 | Train acc: 0.9999 | Val acc: 0.6928\n",
            "Epoch 72 | loss: 0.0232 | Train acc: 0.9999 | Val acc: 0.6924\n",
            "Epoch 73 | loss: 0.0215 | Train acc: 1.0000 | Val acc: 0.6958\n",
            "Epoch 74 | loss: 0.0178 | Train acc: 0.9999 | Val acc: 0.6958\n",
            "Epoch 75 | loss: 0.0175 | Train acc: 0.9999 | Val acc: 0.6904\n",
            "Epoch 76 | loss: 0.0168 | Train acc: 0.9999 | Val acc: 0.6955\n",
            "Epoch 77 | loss: 0.0161 | Train acc: 1.0000 | Val acc: 0.6941\n",
            "Epoch 78 | loss: 0.0186 | Train acc: 1.0000 | Val acc: 0.6946\n",
            "Epoch 79 | loss: 0.0146 | Train acc: 1.0000 | Val acc: 0.6954\n",
            "Epoch 80 | loss: 0.0170 | Train acc: 1.0000 | Val acc: 0.6928\n",
            "Epoch 81 | loss: 0.0126 | Train acc: 1.0000 | Val acc: 0.6953\n",
            "Epoch 82 | loss: 0.0159 | Train acc: 1.0000 | Val acc: 0.6964\n",
            "Epoch 83 | loss: 0.0154 | Train acc: 1.0000 | Val acc: 0.6941\n",
            "Epoch 84 | loss: 0.0119 | Train acc: 1.0000 | Val acc: 0.6942\n",
            "Epoch 85 | loss: 0.0119 | Train acc: 1.0000 | Val acc: 0.6944\n",
            "Epoch 86 | loss: 0.0111 | Train acc: 1.0000 | Val acc: 0.6953\n",
            "Epoch 87 | loss: 0.0119 | Train acc: 1.0000 | Val acc: 0.6944\n",
            "Epoch 88 | loss: 0.0105 | Train acc: 0.9999 | Val acc: 0.6955\n",
            "Epoch 89 | loss: 0.0114 | Train acc: 1.0000 | Val acc: 0.6938\n",
            "Epoch 90 | loss: 0.0102 | Train acc: 1.0000 | Val acc: 0.6938\n",
            "Epoch 91 | loss: 0.0108 | Train acc: 0.9999 | Val acc: 0.6962\n",
            "Epoch 92 | loss: 0.0097 | Train acc: 1.0000 | Val acc: 0.6959\n",
            "Epoch 93 | loss: 0.0095 | Train acc: 0.9999 | Val acc: 0.6960\n",
            "Epoch 94 | loss: 0.0124 | Train acc: 1.0000 | Val acc: 0.6950\n",
            "Epoch 95 | loss: 0.0096 | Train acc: 1.0000 | Val acc: 0.6961\n",
            "Epoch 96 | loss: 0.0100 | Train acc: 1.0000 | Val acc: 0.6955\n",
            "Epoch 97 | loss: 0.0091 | Train acc: 0.9999 | Val acc: 0.6939\n",
            "Epoch 98 | loss: 0.0089 | Train acc: 1.0000 | Val acc: 0.6958\n",
            "Epoch 99 | loss: 0.0087 | Train acc: 1.0000 | Val acc: 0.6974\n",
            "Epoch 100 | loss: 0.0079 | Train acc: 1.0000 | Val acc: 0.6954\n"
          ]
        }
      ],
      "source": [
        "net = InceptionSmall().to(device)\n",
        "optimizer = torch.optim.SGD(net.parameters(), lr=0.1, momentum=0.9)\n",
        "scheduler = torch.optim.lr_scheduler.StepLR(optimizer, 1, gamma=0.95)\n",
        "trained_model,history_t1,history_v1, history_loss_shuffled_pixels = fit(100, net, trainloader, testloader, optimizer,scheduler, name='shuffled_pixels', shuffled_pixels=True)"
      ]
    },
    {
      "cell_type": "code",
      "execution_count": null,
      "metadata": {
        "id": "Megt5Vbh_iLg"
      },
      "outputs": [],
      "source": [
        "plt.plot(list(history_loss_shuffled_pixels), label='shuffled pixels')\n",
        "plt.xlabel('Training Steps')\n",
        "plt.ylabel('loss')\n",
        "plt.title('Inception Small on Cifar-10')\n",
        "plt.show()"
      ]
    },
    {
      "cell_type": "code",
      "execution_count": null,
      "metadata": {},
      "outputs": [],
      "source": [
        "final_dict['shuffled_pixels']={}\n",
        "final_dict['shuffled_pixels']['train_losses'] = history_loss_shuffled_pixels"
      ]
    },
    {
      "cell_type": "code",
      "execution_count": null,
      "metadata": {},
      "outputs": [],
      "source": [
        "with open('final_input1.pickle', 'wb') as f:\n",
        "    pickle.dump(final_dict, f, protocol=pickle.HIGHEST_PROTOCOL)"
      ]
    },
    {
      "cell_type": "markdown",
      "metadata": {},
      "source": [
        "# Random pixels"
      ]
    },
    {
      "cell_type": "code",
      "execution_count": 9,
      "metadata": {
        "colab": {
          "base_uri": "https://localhost:8080/"
        },
        "id": "UuaUupX8FSPD",
        "outputId": "7112cef4-143c-484a-adee-cde24ae8e05b"
      },
      "outputs": [
        {
          "name": "stdout",
          "output_type": "stream",
          "text": [
            "Epoch 1 | loss: 3.9594 | Train acc: 0.1000 | Val acc: 0.0999\n",
            "Epoch 2 | loss: 3.6094 | Train acc: 0.1000 | Val acc: 0.1000\n",
            "Epoch 3 | loss: 3.6084 | Train acc: 0.1000 | Val acc: 0.1000\n",
            "Epoch 4 | loss: 3.6087 | Train acc: 0.1000 | Val acc: 0.1000\n",
            "Epoch 5 | loss: 3.6082 | Train acc: 0.1000 | Val acc: 0.1002\n",
            "Epoch 6 | loss: 3.6079 | Train acc: 0.1000 | Val acc: 0.0999\n",
            "Epoch 7 | loss: 3.6077 | Train acc: 0.1000 | Val acc: 0.1000\n",
            "Epoch 8 | loss: 3.6069 | Train acc: 0.1000 | Val acc: 0.1000\n",
            "Epoch 9 | loss: 3.6058 | Train acc: 0.1001 | Val acc: 0.1001\n",
            "Epoch 10 | loss: 3.5901 | Train acc: 0.1000 | Val acc: 0.1001\n",
            "Epoch 11 | loss: 3.1132 | Train acc: 0.3111 | Val acc: 0.3141\n",
            "Epoch 12 | loss: 2.7364 | Train acc: 0.3744 | Val acc: 0.3675\n",
            "Epoch 13 | loss: 2.5432 | Train acc: 0.4135 | Val acc: 0.4054\n",
            "Epoch 14 | loss: 2.4163 | Train acc: 0.4276 | Val acc: 0.4229\n",
            "Epoch 15 | loss: 2.3056 | Train acc: 0.4642 | Val acc: 0.4559\n",
            "Epoch 16 | loss: 2.2001 | Train acc: 0.5125 | Val acc: 0.4954\n",
            "Epoch 17 | loss: 2.0970 | Train acc: 0.5323 | Val acc: 0.5109\n",
            "Epoch 18 | loss: 2.0113 | Train acc: 0.5663 | Val acc: 0.5423\n",
            "Epoch 19 | loss: 1.9273 | Train acc: 0.5831 | Val acc: 0.5531\n",
            "Epoch 20 | loss: 1.8415 | Train acc: 0.6108 | Val acc: 0.5745\n",
            "Epoch 21 | loss: 1.7584 | Train acc: 0.6169 | Val acc: 0.5837\n",
            "Epoch 22 | loss: 1.6799 | Train acc: 0.6484 | Val acc: 0.6000\n",
            "Epoch 23 | loss: 1.6131 | Train acc: 0.6428 | Val acc: 0.5976\n",
            "Epoch 24 | loss: 1.5431 | Train acc: 0.6809 | Val acc: 0.6173\n",
            "Epoch 25 | loss: 1.4762 | Train acc: 0.6947 | Val acc: 0.6258\n",
            "Epoch 26 | loss: 1.4097 | Train acc: 0.6992 | Val acc: 0.6211\n",
            "Epoch 27 | loss: 1.3545 | Train acc: 0.7310 | Val acc: 0.6387\n",
            "Epoch 28 | loss: 1.2865 | Train acc: 0.7512 | Val acc: 0.6461\n",
            "Epoch 29 | loss: 1.2277 | Train acc: 0.7574 | Val acc: 0.6498\n",
            "Epoch 30 | loss: 1.1718 | Train acc: 0.7690 | Val acc: 0.6487\n",
            "Epoch 31 | loss: 1.1109 | Train acc: 0.7849 | Val acc: 0.6505\n",
            "Epoch 32 | loss: 1.0560 | Train acc: 0.8112 | Val acc: 0.6604\n",
            "Epoch 33 | loss: 0.9987 | Train acc: 0.7755 | Val acc: 0.6341\n",
            "Epoch 34 | loss: 0.9371 | Train acc: 0.8263 | Val acc: 0.6554\n",
            "Epoch 35 | loss: 0.8823 | Train acc: 0.8341 | Val acc: 0.6509\n",
            "Epoch 36 | loss: 0.8312 | Train acc: 0.8626 | Val acc: 0.6578\n",
            "Epoch 37 | loss: 0.7829 | Train acc: 0.8626 | Val acc: 0.6491\n",
            "Epoch 38 | loss: 0.7271 | Train acc: 0.8759 | Val acc: 0.6551\n",
            "Epoch 39 | loss: 0.6750 | Train acc: 0.8992 | Val acc: 0.6537\n",
            "Epoch 40 | loss: 0.6303 | Train acc: 0.9015 | Val acc: 0.6491\n",
            "Epoch 41 | loss: 0.5779 | Train acc: 0.9099 | Val acc: 0.6491\n",
            "Epoch 42 | loss: 0.5384 | Train acc: 0.9192 | Val acc: 0.6497\n",
            "Epoch 43 | loss: 0.4884 | Train acc: 0.9357 | Val acc: 0.6519\n",
            "Epoch 44 | loss: 0.4490 | Train acc: 0.9420 | Val acc: 0.6507\n",
            "Epoch 45 | loss: 0.4069 | Train acc: 0.9503 | Val acc: 0.6506\n",
            "Epoch 46 | loss: 0.3808 | Train acc: 0.9430 | Val acc: 0.6459\n",
            "Epoch 47 | loss: 0.3408 | Train acc: 0.9644 | Val acc: 0.6475\n",
            "Epoch 48 | loss: 0.3188 | Train acc: 0.9701 | Val acc: 0.6487\n",
            "Epoch 49 | loss: 0.2792 | Train acc: 0.9734 | Val acc: 0.6496\n",
            "Epoch 50 | loss: 0.2648 | Train acc: 0.9765 | Val acc: 0.6512\n",
            "Epoch 51 | loss: 0.2425 | Train acc: 0.9821 | Val acc: 0.6521\n",
            "Epoch 52 | loss: 0.2200 | Train acc: 0.9829 | Val acc: 0.6487\n",
            "Epoch 53 | loss: 0.2021 | Train acc: 0.9776 | Val acc: 0.6473\n",
            "Epoch 54 | loss: 0.1826 | Train acc: 0.9839 | Val acc: 0.6407\n",
            "Epoch 55 | loss: 0.1620 | Train acc: 0.9867 | Val acc: 0.6484\n",
            "Epoch 56 | loss: 0.1434 | Train acc: 0.9913 | Val acc: 0.6530\n",
            "Epoch 57 | loss: 0.1349 | Train acc: 0.9924 | Val acc: 0.6486\n",
            "Epoch 58 | loss: 0.1188 | Train acc: 0.9934 | Val acc: 0.6530\n",
            "Epoch 59 | loss: 0.1147 | Train acc: 0.9931 | Val acc: 0.6500\n",
            "Epoch 60 | loss: 0.1084 | Train acc: 0.9956 | Val acc: 0.6496\n",
            "Epoch 61 | loss: 0.0957 | Train acc: 0.9962 | Val acc: 0.6504\n",
            "Epoch 62 | loss: 0.0931 | Train acc: 0.9979 | Val acc: 0.6535\n",
            "Epoch 63 | loss: 0.0765 | Train acc: 0.9976 | Val acc: 0.6493\n",
            "Epoch 64 | loss: 0.0675 | Train acc: 0.9967 | Val acc: 0.6517\n",
            "Epoch 65 | loss: 0.0626 | Train acc: 0.9986 | Val acc: 0.6533\n",
            "Epoch 66 | loss: 0.0587 | Train acc: 0.9988 | Val acc: 0.6511\n",
            "Epoch 67 | loss: 0.0552 | Train acc: 0.9990 | Val acc: 0.6553\n",
            "Epoch 68 | loss: 0.0544 | Train acc: 0.9989 | Val acc: 0.6506\n",
            "Epoch 69 | loss: 0.0521 | Train acc: 0.9994 | Val acc: 0.6488\n",
            "Epoch 70 | loss: 0.0448 | Train acc: 0.9996 | Val acc: 0.6526\n",
            "Epoch 71 | loss: 0.0387 | Train acc: 0.9996 | Val acc: 0.6521\n",
            "Epoch 72 | loss: 0.0370 | Train acc: 0.9998 | Val acc: 0.6507\n",
            "Epoch 73 | loss: 0.0346 | Train acc: 0.9998 | Val acc: 0.6516\n",
            "Epoch 74 | loss: 0.0328 | Train acc: 0.9998 | Val acc: 0.6599\n",
            "Epoch 75 | loss: 0.0298 | Train acc: 0.9999 | Val acc: 0.6513\n",
            "Epoch 76 | loss: 0.0309 | Train acc: 0.9999 | Val acc: 0.6486\n",
            "Epoch 77 | loss: 0.0269 | Train acc: 0.9999 | Val acc: 0.6562\n",
            "Epoch 78 | loss: 0.0255 | Train acc: 0.9999 | Val acc: 0.6547\n",
            "Epoch 79 | loss: 0.0238 | Train acc: 1.0000 | Val acc: 0.6555\n",
            "Epoch 80 | loss: 0.0215 | Train acc: 1.0000 | Val acc: 0.6562\n",
            "Epoch 81 | loss: 0.0225 | Train acc: 1.0000 | Val acc: 0.6555\n",
            "Epoch 82 | loss: 0.0207 | Train acc: 1.0000 | Val acc: 0.6525\n",
            "Epoch 83 | loss: 0.0197 | Train acc: 1.0000 | Val acc: 0.6516\n",
            "Epoch 84 | loss: 0.0192 | Train acc: 1.0000 | Val acc: 0.6517\n",
            "Epoch 85 | loss: 0.0184 | Train acc: 1.0000 | Val acc: 0.6533\n",
            "Epoch 86 | loss: 0.0188 | Train acc: 1.0000 | Val acc: 0.6499\n",
            "Epoch 87 | loss: 0.0169 | Train acc: 1.0000 | Val acc: 0.6511\n",
            "Epoch 88 | loss: 0.0173 | Train acc: 1.0000 | Val acc: 0.6520\n",
            "Epoch 89 | loss: 0.0150 | Train acc: 1.0000 | Val acc: 0.6547\n",
            "Epoch 90 | loss: 0.0151 | Train acc: 1.0000 | Val acc: 0.6520\n",
            "Epoch 91 | loss: 0.0150 | Train acc: 1.0000 | Val acc: 0.6510\n",
            "Epoch 92 | loss: 0.0138 | Train acc: 1.0000 | Val acc: 0.6542\n",
            "Epoch 93 | loss: 0.0146 | Train acc: 1.0000 | Val acc: 0.6513\n",
            "Epoch 94 | loss: 0.0146 | Train acc: 1.0000 | Val acc: 0.6503\n",
            "Epoch 95 | loss: 0.0116 | Train acc: 1.0000 | Val acc: 0.6533\n",
            "Epoch 96 | loss: 0.0133 | Train acc: 1.0000 | Val acc: 0.6537\n",
            "Epoch 97 | loss: 0.0132 | Train acc: 1.0000 | Val acc: 0.6539\n",
            "Epoch 98 | loss: 0.0136 | Train acc: 1.0000 | Val acc: 0.6527\n",
            "Epoch 99 | loss: 0.0123 | Train acc: 1.0000 | Val acc: 0.6546\n",
            "Epoch 100 | loss: 0.0112 | Train acc: 1.0000 | Val acc: 0.6549\n"
          ]
        }
      ],
      "source": [
        "net = InceptionSmall().to(device)\n",
        "optimizer = torch.optim.SGD(net.parameters(), lr=0.1, momentum=0.9)\n",
        "scheduler = torch.optim.lr_scheduler.StepLR(optimizer, 1, gamma=0.95)\n",
        "trained_model,history_t1,history_v1, history_loss_random_pixels = fit(100, net, trainloader, testloader, optimizer,scheduler, name='random_pixels', random_pixels=True)"
      ]
    },
    {
      "cell_type": "code",
      "execution_count": 10,
      "metadata": {
        "colab": {
          "base_uri": "https://localhost:8080/",
          "height": 295
        },
        "id": "UdSPrh4yFWUq",
        "outputId": "a7f003e5-8c52-48a5-a299-ee7febcf06af"
      },
      "outputs": [
        {
          "data": {
            "image/png": "[encoded data removed]",
            "text/plain": [
              "<Figure size 432x288 with 1 Axes>"
            ]
          },
          "metadata": {
            "needs_background": "light",
            "tags": []
          },
          "output_type": "display_data"
        }
      ],
      "source": [
        "plt.plot(list(history_loss_random_pixels), label='random pixels')\n",
        "plt.xlabel('Training Steps')\n",
        "plt.ylabel('loss')\n",
        "plt.title('Inception Small on Cifar-10')\n",
        "plt.show()"
      ]
    },
    {
      "cell_type": "code",
      "execution_count": null,
      "metadata": {},
      "outputs": [],
      "source": [
        "final_dict['random_pixels']={}\n",
        "final_dict['random_pixels']['train_losses'] = history_loss_random_pixels"
      ]
    },
    {
      "cell_type": "code",
      "execution_count": null,
      "metadata": {},
      "outputs": [],
      "source": [
        "with open('final_input2.pickle', 'wb') as f:\n",
        "    pickle.dump(final_dict, f, protocol=pickle.HIGHEST_PROTOCOL)"
      ]
    },
    {
      "cell_type": "markdown",
      "metadata": {},
      "source": [
        "# Gaussian Noise"
      ]
    },
    {
      "cell_type": "code",
      "execution_count": 13,
      "metadata": {
        "colab": {
          "base_uri": "https://localhost:8080/"
        },
        "id": "FduNQwWtNjiZ",
        "outputId": "a514000d-418d-4f7e-ee09-ceba5a156d57"
      },
      "outputs": [
        {
          "name": "stdout",
          "output_type": "stream",
          "text": [
            "Epoch 1 | loss: 4.0553 | Train acc: 0.1110 | Val acc: 0.1111\n",
            "Epoch 2 | loss: 3.6099 | Train acc: 0.1006 | Val acc: 0.1005\n",
            "Epoch 3 | loss: 3.6095 | Train acc: 0.1001 | Val acc: 0.0999\n",
            "Epoch 4 | loss: 3.6069 | Train acc: 0.1015 | Val acc: 0.1013\n",
            "Epoch 5 | loss: 3.3042 | Train acc: 0.2467 | Val acc: 0.2529\n",
            "Epoch 6 | loss: 2.8133 | Train acc: 0.3564 | Val acc: 0.3637\n",
            "Epoch 7 | loss: 2.5073 | Train acc: 0.4051 | Val acc: 0.4014\n",
            "Epoch 8 | loss: 2.2503 | Train acc: 0.5094 | Val acc: 0.5061\n",
            "Epoch 9 | loss: 2.0219 | Train acc: 0.5727 | Val acc: 0.5628\n",
            "Epoch 10 | loss: 1.8275 | Train acc: 0.5924 | Val acc: 0.5815\n",
            "Epoch 11 | loss: 1.6889 | Train acc: 0.6456 | Val acc: 0.6255\n",
            "Epoch 12 | loss: 1.5666 | Train acc: 0.6719 | Val acc: 0.6481\n",
            "Epoch 13 | loss: 1.4521 | Train acc: 0.6947 | Val acc: 0.6666\n",
            "Epoch 14 | loss: 1.3534 | Train acc: 0.7029 | Val acc: 0.6693\n",
            "Epoch 15 | loss: 1.4683 | Train acc: 0.6969 | Val acc: 0.6669\n",
            "Epoch 16 | loss: 1.2561 | Train acc: 0.7566 | Val acc: 0.7053\n",
            "Epoch 17 | loss: 1.1422 | Train acc: 0.7673 | Val acc: 0.7198\n",
            "Epoch 18 | loss: 1.0645 | Train acc: 0.7889 | Val acc: 0.7306\n",
            "Epoch 19 | loss: 0.9919 | Train acc: 0.7963 | Val acc: 0.7290\n",
            "Epoch 20 | loss: 0.9283 | Train acc: 0.8240 | Val acc: 0.7409\n",
            "Epoch 21 | loss: 0.8659 | Train acc: 0.8316 | Val acc: 0.7422\n",
            "Epoch 22 | loss: 0.8010 | Train acc: 0.8464 | Val acc: 0.7474\n",
            "Epoch 23 | loss: 0.7497 | Train acc: 0.8507 | Val acc: 0.7368\n",
            "Epoch 24 | loss: 0.6937 | Train acc: 0.8779 | Val acc: 0.7513\n",
            "Epoch 25 | loss: 0.6443 | Train acc: 0.8925 | Val acc: 0.7579\n",
            "Epoch 26 | loss: 0.5876 | Train acc: 0.9000 | Val acc: 0.7556\n",
            "Epoch 27 | loss: 0.5418 | Train acc: 0.9024 | Val acc: 0.7552\n",
            "Epoch 28 | loss: 0.4965 | Train acc: 0.9158 | Val acc: 0.7592\n",
            "Epoch 29 | loss: 0.4536 | Train acc: 0.9327 | Val acc: 0.7588\n",
            "Epoch 30 | loss: 0.4081 | Train acc: 0.9456 | Val acc: 0.7631\n",
            "Epoch 31 | loss: 0.3685 | Train acc: 0.9463 | Val acc: 0.7597\n",
            "Epoch 32 | loss: 0.3306 | Train acc: 0.9555 | Val acc: 0.7547\n",
            "Epoch 33 | loss: 0.2945 | Train acc: 0.9499 | Val acc: 0.7460\n",
            "Epoch 34 | loss: 0.2641 | Train acc: 0.9679 | Val acc: 0.7597\n",
            "Epoch 35 | loss: 0.2347 | Train acc: 0.9688 | Val acc: 0.7547\n",
            "Epoch 36 | loss: 0.2117 | Train acc: 0.9672 | Val acc: 0.7491\n",
            "Epoch 37 | loss: 0.1866 | Train acc: 0.9798 | Val acc: 0.7552\n",
            "Epoch 38 | loss: 0.1686 | Train acc: 0.9810 | Val acc: 0.7554\n",
            "Epoch 39 | loss: 0.1461 | Train acc: 0.9864 | Val acc: 0.7601\n",
            "Epoch 40 | loss: 0.1266 | Train acc: 0.9871 | Val acc: 0.7526\n",
            "Epoch 41 | loss: 0.1146 | Train acc: 0.9893 | Val acc: 0.7535\n",
            "Epoch 42 | loss: 0.1062 | Train acc: 0.9905 | Val acc: 0.7562\n",
            "Epoch 43 | loss: 0.0906 | Train acc: 0.9934 | Val acc: 0.7582\n",
            "Epoch 44 | loss: 0.0816 | Train acc: 0.9940 | Val acc: 0.7605\n",
            "Epoch 45 | loss: 0.0683 | Train acc: 0.9966 | Val acc: 0.7569\n",
            "Epoch 46 | loss: 0.0637 | Train acc: 0.9958 | Val acc: 0.7593\n",
            "Epoch 47 | loss: 0.0604 | Train acc: 0.9969 | Val acc: 0.7610\n",
            "Epoch 48 | loss: 0.0464 | Train acc: 0.9979 | Val acc: 0.7591\n",
            "Epoch 49 | loss: 0.0406 | Train acc: 0.9959 | Val acc: 0.7620\n",
            "Epoch 50 | loss: 0.0388 | Train acc: 0.9976 | Val acc: 0.7610\n",
            "Epoch 51 | loss: 0.0346 | Train acc: 0.9979 | Val acc: 0.7657\n",
            "Epoch 52 | loss: 0.0317 | Train acc: 0.9987 | Val acc: 0.7661\n",
            "Epoch 53 | loss: 0.0286 | Train acc: 0.9974 | Val acc: 0.7567\n",
            "Epoch 54 | loss: 0.0206 | Train acc: 0.9969 | Val acc: 0.7602\n",
            "Epoch 55 | loss: 0.0205 | Train acc: 0.9988 | Val acc: 0.7613\n",
            "Epoch 56 | loss: 0.0188 | Train acc: 0.9988 | Val acc: 0.7606\n",
            "Epoch 57 | loss: 0.0139 | Train acc: 0.9989 | Val acc: 0.7621\n",
            "Epoch 58 | loss: 0.0151 | Train acc: 0.9989 | Val acc: 0.7631\n",
            "Epoch 59 | loss: 0.0163 | Train acc: 0.9995 | Val acc: 0.7611\n",
            "Epoch 60 | loss: 0.0155 | Train acc: 0.9997 | Val acc: 0.7628\n",
            "Epoch 61 | loss: 0.0122 | Train acc: 0.9995 | Val acc: 0.7629\n",
            "Epoch 62 | loss: 0.0085 | Train acc: 0.9994 | Val acc: 0.7634\n",
            "Epoch 63 | loss: 0.0089 | Train acc: 0.9994 | Val acc: 0.7640\n",
            "Epoch 64 | loss: 0.0100 | Train acc: 0.9987 | Val acc: 0.7648\n",
            "Epoch 65 | loss: 0.0087 | Train acc: 0.9993 | Val acc: 0.7633\n",
            "Epoch 66 | loss: 0.0079 | Train acc: 0.9997 | Val acc: 0.7651\n",
            "Epoch 67 | loss: 0.0074 | Train acc: 0.9984 | Val acc: 0.7639\n",
            "Epoch 68 | loss: 0.0075 | Train acc: 0.9994 | Val acc: 0.7659\n",
            "Epoch 69 | loss: 0.0059 | Train acc: 0.9991 | Val acc: 0.7636\n",
            "Epoch 70 | loss: 0.0066 | Train acc: 0.9998 | Val acc: 0.7675\n",
            "Epoch 71 | loss: 0.0054 | Train acc: 0.9995 | Val acc: 0.7654\n",
            "Epoch 72 | loss: 0.0040 | Train acc: 0.9990 | Val acc: 0.7666\n",
            "Epoch 73 | loss: 0.0038 | Train acc: 0.9993 | Val acc: 0.7639\n",
            "Epoch 74 | loss: 0.0041 | Train acc: 0.9998 | Val acc: 0.7654\n",
            "Epoch 75 | loss: 0.0051 | Train acc: 0.9993 | Val acc: 0.7658\n",
            "Epoch 76 | loss: 0.0038 | Train acc: 0.9993 | Val acc: 0.7642\n",
            "Epoch 77 | loss: 0.0044 | Train acc: 0.9993 | Val acc: 0.7661\n",
            "Epoch 78 | loss: 0.0033 | Train acc: 0.9996 | Val acc: 0.7672\n",
            "Epoch 79 | loss: 0.0037 | Train acc: 0.9997 | Val acc: 0.7684\n",
            "Epoch 80 | loss: 0.0035 | Train acc: 0.9994 | Val acc: 0.7665\n",
            "Epoch 81 | loss: 0.0029 | Train acc: 0.9998 | Val acc: 0.7689\n",
            "Epoch 82 | loss: 0.0029 | Train acc: 0.9996 | Val acc: 0.7644\n",
            "Epoch 83 | loss: 0.0030 | Train acc: 0.9999 | Val acc: 0.7692\n",
            "Epoch 84 | loss: 0.0038 | Train acc: 0.9995 | Val acc: 0.7693\n",
            "Epoch 85 | loss: 0.0032 | Train acc: 0.9996 | Val acc: 0.7679\n",
            "Epoch 86 | loss: 0.0033 | Train acc: 0.9993 | Val acc: 0.7657\n",
            "Epoch 87 | loss: 0.0032 | Train acc: 0.9993 | Val acc: 0.7684\n",
            "Epoch 88 | loss: 0.0028 | Train acc: 0.9996 | Val acc: 0.7673\n",
            "Epoch 89 | loss: 0.0028 | Train acc: 0.9987 | Val acc: 0.7642\n",
            "Epoch 90 | loss: 0.0024 | Train acc: 0.9990 | Val acc: 0.7667\n",
            "Epoch 91 | loss: 0.0020 | Train acc: 0.9993 | Val acc: 0.7684\n",
            "Epoch 92 | loss: 0.0027 | Train acc: 0.9997 | Val acc: 0.7691\n",
            "Epoch 93 | loss: 0.0023 | Train acc: 0.9982 | Val acc: 0.7645\n",
            "Epoch 94 | loss: 0.0029 | Train acc: 0.9996 | Val acc: 0.7668\n",
            "Epoch 95 | loss: 0.0020 | Train acc: 0.9987 | Val acc: 0.7670\n",
            "Epoch 96 | loss: 0.0020 | Train acc: 0.9995 | Val acc: 0.7673\n",
            "Epoch 97 | loss: 0.0021 | Train acc: 0.9995 | Val acc: 0.7678\n",
            "Epoch 98 | loss: 0.0024 | Train acc: 0.9988 | Val acc: 0.7663\n",
            "Epoch 99 | loss: 0.0031 | Train acc: 0.9998 | Val acc: 0.7683\n",
            "Epoch 100 | loss: 0.0020 | Train acc: 0.9998 | Val acc: 0.7681\n"
          ]
        }
      ],
      "source": [
        "net = InceptionSmall().to(device)\n",
        "optimizer = torch.optim.SGD(net.parameters(), lr=0.1, momentum=0.9)\n",
        "scheduler = torch.optim.lr_scheduler.StepLR(optimizer, 1, gamma=0.95)\n",
        "trained_model,history_t1,history_v1, history_loss_gaussian_noise = fit(100, net, trainloader, testloader, optimizer,scheduler, name='gaussian_noise', gaussian_noise=True)"
      ]
    },
    {
      "cell_type": "code",
      "execution_count": 14,
      "metadata": {
        "colab": {
          "base_uri": "https://localhost:8080/",
          "height": 295
        },
        "id": "zY2Wo-wGNplz",
        "outputId": "0a2be94f-ddcc-487e-843c-61581cb936c9"
      },
      "outputs": [
        {
          "data": {
            "image/png": "[encoded data removed]",
            "text/plain": [
              "<Figure size 432x288 with 1 Axes>"
            ]
          },
          "metadata": {
            "needs_background": "light",
            "tags": []
          },
          "output_type": "display_data"
        }
      ],
      "source": [
        "plt.plot(list(history_loss_gaussian_noise), label='Gaussian Noise')\n",
        "plt.xlabel('Training Steps')\n",
        "plt.ylabel('loss')\n",
        "plt.title('Inception Small on Cifar-10')\n",
        "plt.show()"
      ]
    },
    {
      "cell_type": "code",
      "execution_count": null,
      "metadata": {},
      "outputs": [],
      "source": [
        "final_dict['gaussian_noise']={}\n",
        "final_dict['gaussian_noise']['train_losses'] = history_loss_gaussian_noise"
      ]
    },
    {
      "cell_type": "code",
      "execution_count": null,
      "metadata": {},
      "outputs": [],
      "source": [
        "with open('final_input3.pickle', 'wb') as f:\n",
        "    pickle.dump(final_dict, f, protocol=pickle.HIGHEST_PROTOCOL)"
      ]
    }
  ],
  "metadata": {
    "accelerator": "GPU",
    "colab": {
      "name": "Effect_of_labels_CIFAR10_InceptionSmall.ipynb",
      "provenance": []
    },
    "kernelspec": {
      "display_name": "Python 3",
      "name": "python3"
    },
    "language_info": {
      "name": "python",
      "version": "3.11.4"
    },
    "widgets": {
      "application/vnd.jupyter.widget-state+json": {
        "01b8dfa64a9c4e67a32d9bb2d06b1407": {
          "model_module": "@jupyter-widgets/base",
          "model_name": "LayoutModel",
          "state": {
            "_model_module": "@jupyter-widgets/base",
            "_model_module_version": "1.2.0",
            "_model_name": "LayoutModel",
            "_view_count": null,
            "_view_module": "@jupyter-widgets/base",
            "_view_module_version": "1.2.0",
            "_view_name": "LayoutView",
            "align_content": null,
            "align_items": null,
            "align_self": null,
            "border": null,
            "bottom": null,
            "display": null,
            "flex": null,
            "flex_flow": null,
            "grid_area": null,
            "grid_auto_columns": null,
            "grid_auto_flow": null,
            "grid_auto_rows": null,
            "grid_column": null,
            "grid_gap": null,
            "grid_row": null,
            "grid_template_areas": null,
            "grid_template_columns": null,
            "grid_template_rows": null,
            "height": null,
            "justify_content": null,
            "justify_items": null,
            "left": null,
            "margin": null,
            "max_height": null,
            "max_width": null,
            "min_height": null,
            "min_width": null,
            "object_fit": null,
            "object_position": null,
            "order": null,
            "overflow": null,
            "overflow_x": null,
            "overflow_y": null,
            "padding": null,
            "right": null,
            "top": null,
            "visibility": null,
            "width": null
          }
        },
        "23b8d28c0aba41f5997da5169127d7ab": {
          "model_module": "@jupyter-widgets/controls",
          "model_name": "HBoxModel",
          "state": {
            "_dom_classes": [],
            "_model_module": "@jupyter-widgets/controls",
            "_model_module_version": "1.5.0",
            "_model_name": "HBoxModel",
            "_view_count": null,
            "_view_module": "@jupyter-widgets/controls",
            "_view_module_version": "1.5.0",
            "_view_name": "HBoxView",
            "box_style": "",
            "children": [
              "IPY_MODEL_2de01d1e700c4a42a616d66ce0396840",
              "IPY_MODEL_6f7e82e53b4045028da6cff4704d0cc9"
            ],
            "layout": "IPY_MODEL_01b8dfa64a9c4e67a32d9bb2d06b1407"
          }
        },
        "2de01d1e700c4a42a616d66ce0396840": {
          "model_module": "@jupyter-widgets/controls",
          "model_name": "FloatProgressModel",
          "state": {
            "_dom_classes": [],
            "_model_module": "@jupyter-widgets/controls",
            "_model_module_version": "1.5.0",
            "_model_name": "FloatProgressModel",
            "_view_count": null,
            "_view_module": "@jupyter-widgets/controls",
            "_view_module_version": "1.5.0",
            "_view_name": "ProgressView",
            "bar_style": "success",
            "description": "",
            "description_tooltip": null,
            "layout": "IPY_MODEL_95dd8bc786ca4aa588a4b54fdb2b349c",
            "max": 170498071,
            "min": 0,
            "orientation": "horizontal",
            "style": "IPY_MODEL_408c14aabf184ea78ef234c26b7c9eb7",
            "value": 170498071
          }
        },
        "408c14aabf184ea78ef234c26b7c9eb7": {
          "model_module": "@jupyter-widgets/controls",
          "model_name": "ProgressStyleModel",
          "state": {
            "_model_module": "@jupyter-widgets/controls",
            "_model_module_version": "1.5.0",
            "_model_name": "ProgressStyleModel",
            "_view_count": null,
            "_view_module": "@jupyter-widgets/base",
            "_view_module_version": "1.2.0",
            "_view_name": "StyleView",
            "bar_color": null,
            "description_width": "initial"
          }
        },
        "45371e2d62bc4d36b58e3479064fb964": {
          "model_module": "@jupyter-widgets/base",
          "model_name": "LayoutModel",
          "state": {
            "_model_module": "@jupyter-widgets/base",
            "_model_module_version": "1.2.0",
            "_model_name": "LayoutModel",
            "_view_count": null,
            "_view_module": "@jupyter-widgets/base",
            "_view_module_version": "1.2.0",
            "_view_name": "LayoutView",
            "align_content": null,
            "align_items": null,
            "align_self": null,
            "border": null,
            "bottom": null,
            "display": null,
            "flex": null,
            "flex_flow": null,
            "grid_area": null,
            "grid_auto_columns": null,
            "grid_auto_flow": null,
            "grid_auto_rows": null,
            "grid_column": null,
            "grid_gap": null,
            "grid_row": null,
            "grid_template_areas": null,
            "grid_template_columns": null,
            "grid_template_rows": null,
            "height": null,
            "justify_content": null,
            "justify_items": null,
            "left": null,
            "margin": null,
            "max_height": null,
            "max_width": null,
            "min_height": null,
            "min_width": null,
            "object_fit": null,
            "object_position": null,
            "order": null,
            "overflow": null,
            "overflow_x": null,
            "overflow_y": null,
            "padding": null,
            "right": null,
            "top": null,
            "visibility": null,
            "width": null
          }
        },
        "5c81bd4d40344c35b48021ab4ca335e4": {
          "model_module": "@jupyter-widgets/controls",
          "model_name": "DescriptionStyleModel",
          "state": {
            "_model_module": "@jupyter-widgets/controls",
            "_model_module_version": "1.5.0",
            "_model_name": "DescriptionStyleModel",
            "_view_count": null,
            "_view_module": "@jupyter-widgets/base",
            "_view_module_version": "1.2.0",
            "_view_name": "StyleView",
            "description_width": ""
          }
        },
        "6f7e82e53b4045028da6cff4704d0cc9": {
          "model_module": "@jupyter-widgets/controls",
          "model_name": "HTMLModel",
          "state": {
            "_dom_classes": [],
            "_model_module": "@jupyter-widgets/controls",
            "_model_module_version": "1.5.0",
            "_model_name": "HTMLModel",
            "_view_count": null,
            "_view_module": "@jupyter-widgets/controls",
            "_view_module_version": "1.5.0",
            "_view_name": "HTMLView",
            "description": "",
            "description_tooltip": null,
            "layout": "IPY_MODEL_45371e2d62bc4d36b58e3479064fb964",
            "placeholder": "​",
            "style": "IPY_MODEL_5c81bd4d40344c35b48021ab4ca335e4",
            "value": " 170499072/? [02:02&lt;00:00, 1390235.00it/s]"
          }
        },
        "95dd8bc786ca4aa588a4b54fdb2b349c": {
          "model_module": "@jupyter-widgets/base",
          "model_name": "LayoutModel",
          "state": {
            "_model_module": "@jupyter-widgets/base",
            "_model_module_version": "1.2.0",
            "_model_name": "LayoutModel",
            "_view_count": null,
            "_view_module": "@jupyter-widgets/base",
            "_view_module_version": "1.2.0",
            "_view_name": "LayoutView",
            "align_content": null,
            "align_items": null,
            "align_self": null,
            "border": null,
            "bottom": null,
            "display": null,
            "flex": null,
            "flex_flow": null,
            "grid_area": null,
            "grid_auto_columns": null,
            "grid_auto_flow": null,
            "grid_auto_rows": null,
            "grid_column": null,
            "grid_gap": null,
            "grid_row": null,
            "grid_template_areas": null,
            "grid_template_columns": null,
            "grid_template_rows": null,
            "height": null,
            "justify_content": null,
            "justify_items": null,
            "left": null,
            "margin": null,
            "max_height": null,
            "max_width": null,
            "min_height": null,
            "min_width": null,
            "object_fit": null,
            "object_position": null,
            "order": null,
            "overflow": null,
            "overflow_x": null,
            "overflow_y": null,
            "padding": null,
            "right": null,
            "top": null,
            "visibility": null,
            "width": null
          }
        }
      }
    }
  },
  "nbformat": 4,
  "nbformat_minor": 0
}
