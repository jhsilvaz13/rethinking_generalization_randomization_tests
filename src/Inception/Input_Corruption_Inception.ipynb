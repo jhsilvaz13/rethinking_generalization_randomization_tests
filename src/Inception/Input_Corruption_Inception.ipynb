{
  "cells": [
    {
      "cell_type": "code",
      "execution_count": 8,
      "metadata": {
        "id": "K4fpoGNN7tVd"
      },
      "outputs": [],
      "source": [
        "import torch\n",
        "import torchvision\n",
        "import torchvision.transforms as transforms\n",
        "import torch.nn as nn\n",
        "import numpy as np\n",
        "import matplotlib.pyplot as plt\n",
        "import pickle"
      ]
    },
    {
      "cell_type": "markdown",
      "metadata": {},
      "source": [
        "# Download data"
      ]
    },
    {
      "cell_type": "code",
      "execution_count": 9,
      "metadata": {
        "id": "fpF9eBfUzJQi"
      },
      "outputs": [],
      "source": [
        "transform = transforms.Compose([transforms.ToTensor(),transforms.CenterCrop(28),transforms.Normalize((0.5, 0.5, 0.5), (0.5, 0.5, 0.5))])"
      ]
    },
    {
      "cell_type": "code",
      "execution_count": 10,
      "metadata": {
        "colab": {
          "base_uri": "https://localhost:8080/",
          "height": 100,
          "referenced_widgets": [
            "23b8d28c0aba41f5997da5169127d7ab",
            "01b8dfa64a9c4e67a32d9bb2d06b1407",
            "2de01d1e700c4a42a616d66ce0396840",
            "6f7e82e53b4045028da6cff4704d0cc9",
            "408c14aabf184ea78ef234c26b7c9eb7",
            "95dd8bc786ca4aa588a4b54fdb2b349c",
            "5c81bd4d40344c35b48021ab4ca335e4",
            "45371e2d62bc4d36b58e3479064fb964"
          ]
        },
        "id": "FYeskUTS7lu3",
        "outputId": "aa4f5ba7-a24f-439d-a7d2-9094192b762d"
      },
      "outputs": [
        {
          "name": "stdout",
          "output_type": "stream",
          "text": [
            "Files already downloaded and verified\n"
          ]
        }
      ],
      "source": [
        "trainset = torchvision.datasets.CIFAR10(root='./CIFAR', train=True, download=True, transform=transform)\n",
        "testset = torchvision.datasets.CIFAR10(root='./CIFAR', train=False, transform=transform)"
      ]
    },
    {
      "cell_type": "code",
      "execution_count": 11,
      "metadata": {
        "id": "kA0e2l4a7yL3"
      },
      "outputs": [],
      "source": [
        "trainloader = torch.utils.data.DataLoader(trainset,batch_size=32, shuffle=True, num_workers=2,pin_memory=True)\n",
        "testloader = torch.utils.data.DataLoader(testset,batch_size=32, shuffle=False, num_workers=2,pin_memory=True)"
      ]
    },
    {
      "cell_type": "markdown",
      "metadata": {},
      "source": [
        "# Inception Neural Network"
      ]
    },
    {
      "cell_type": "code",
      "execution_count": 12,
      "metadata": {
        "id": "RKffneOVzAC0"
      },
      "outputs": [],
      "source": [
        "class ConvModule(nn.Module):\n",
        "    def __init__(self, in_channels, out_channels, kernel_size, stride, padding):\n",
        "        super(ConvModule, self).__init__()\n",
        "        \n",
        "        self.conv = nn.Conv2d(in_channels, out_channels, kernel_size, stride, padding)\n",
        "        self.bn = nn.BatchNorm2d(out_channels)\n",
        "        self.act = nn.ReLU()\n",
        "        \n",
        "    def forward(self, x):\n",
        "        x = self.conv(x)\n",
        "        x = self.bn(x)\n",
        "        x = self.act(x)\n",
        "        return x\n",
        " \n",
        "class InceptionModule(nn.Module):\n",
        "    \n",
        "    def __init__(self, in_channels, f_1x1, f_3x3):\n",
        "        super(InceptionModule, self).__init__()\n",
        "        \n",
        "        self.branch1 = nn.Sequential(\n",
        "            ConvModule(in_channels, f_1x1, kernel_size=1, stride=1, padding=0)\n",
        "        )\n",
        "        \n",
        "        self.branch2 = nn.Sequential(\n",
        "            ConvModule(in_channels, f_3x3, kernel_size=3, stride=1, padding=1)\n",
        "        )\n",
        "                \n",
        "    def forward(self, x):\n",
        "        branch1 = self.branch1(x)\n",
        "        branch2 = self.branch2(x)\n",
        "        return torch.cat([branch1, branch2], 1)\n",
        "\n",
        "\n",
        "class DownsampleModule(nn.Module):\n",
        "    def __init__(self, in_channels, f_3x3):\n",
        "        super(DownsampleModule, self).__init__()\n",
        "    \n",
        "        self.branch1 = nn.Sequential(ConvModule(in_channels, f_3x3, kernel_size=3, stride=2, padding=0))\n",
        "        self.branch2 = nn.MaxPool2d(3, stride=2)\n",
        "    \n",
        "    def forward(self, x):\n",
        "        branch1 = self.branch1(x)\n",
        "        branch2 = self.branch2(x)\n",
        "        return torch.cat([branch1, branch2], 1)\n",
        "   \n",
        "class InceptionNet(nn.Module):\n",
        "    def __init__(self, num_classes = 10):\n",
        "        super().__init__()\n",
        "        \n",
        "        self.conv1 = ConvModule(in_channels =3,out_channels=96, kernel_size=3, stride=1, padding=0)\n",
        "        self.inception1 = InceptionModule(in_channels=96,f_1x1=32,f_3x3=32)\n",
        "        self.inception2 = InceptionModule(in_channels=64,f_1x1=32,f_3x3=48)\n",
        "        self.down1 = DownsampleModule(in_channels=80,f_3x3=80)\n",
        "        self.inception3 = InceptionModule(in_channels=160,f_1x1=112,f_3x3=48)\n",
        "        self.inception4 = InceptionModule(in_channels=160,f_1x1=96,f_3x3=64)\n",
        "        self.inception5 = InceptionModule(in_channels=160,f_1x1=80,f_3x3=80)\n",
        "        self.inception6 = InceptionModule(in_channels=160,f_1x1=48,f_3x3=96)   \n",
        "        self.down2 = DownsampleModule(in_channels=144,f_3x3=96)\n",
        "        self.inception7 = InceptionModule(in_channels=240,f_1x1=176,f_3x3=160)\n",
        "        self.inception8 = InceptionModule(in_channels=336,f_1x1=176,f_3x3=160)\n",
        "        self.meanpool = nn.AdaptiveAvgPool2d((7,7))\n",
        "        self.fc = nn.Linear(16464, num_classes)\n",
        "       \n",
        "    def forward(self, x):\n",
        "        x = self.conv1(x)\n",
        "        x = self.inception1(x)\n",
        "        x = self.inception2(x)\n",
        "        x = self.down1(x)\n",
        "        x = self.inception3(x)\n",
        "        x = self.inception4(x)\n",
        "        x = self.inception5(x)\n",
        "        x = self.inception6(x)\n",
        "        x = self.down2(x)\n",
        "        x = self.inception7(x)\n",
        "        x = self.inception8(x)\n",
        "        x = self.meanpool(x)\n",
        "        x = torch.flatten(x,1)\n",
        "        x = self.fc(x)\n",
        "        return x"
      ]
    },
    {
      "cell_type": "markdown",
      "metadata": {},
      "source": [
        "# Obtain the current device"
      ]
    },
    {
      "cell_type": "code",
      "execution_count": 13,
      "metadata": {
        "colab": {
          "base_uri": "https://localhost:8080/"
        },
        "id": "0Mo8l9Y_76_T",
        "outputId": "80ddb611-1a61-4c5d-da5c-9599dd155e6d"
      },
      "outputs": [
        {
          "name": "stdout",
          "output_type": "stream",
          "text": [
            "False\n"
          ]
        },
        {
          "data": {
            "text/plain": [
              "device(type='cpu')"
            ]
          },
          "execution_count": 13,
          "metadata": {},
          "output_type": "execute_result"
        }
      ],
      "source": [
        "print(torch.cuda.is_available())\n",
        "def get_device():\n",
        "  if torch.cuda.is_available():\n",
        "      return torch.device('cuda')\n",
        "  else:\n",
        "      return torch.device('cpu')\n",
        "device = get_device()\n",
        "device"
      ]
    },
    {
      "cell_type": "markdown",
      "metadata": {},
      "source": [
        "# Gaussian Noise"
      ]
    },
    {
      "cell_type": "code",
      "execution_count": 14,
      "metadata": {
        "id": "YcszL06Dw0ZA"
      },
      "outputs": [],
      "source": [
        "def get_gaussian_image(batch, w, h):\n",
        "    # CIFAR 10 mean and std in RGB format. Source: https://github.com/facebookarchive/fb.resnet.torch/issues/180\n",
        "    mean = [125.3, 123.0, 113.9]\n",
        "    std = [63.0, 62.1, 66.7]\n",
        "    out = list()\n",
        "    for i in range(batch):\n",
        "        r_channel = torch.normal(mean[0], std[0], size=(w, h)).unsqueeze(0)\n",
        "        g_channel = torch.normal(mean[1], std[1], size=(w, h)).unsqueeze(0)\n",
        "        b_channel = torch.normal(mean[2], std[2], size=(w, h)).unsqueeze(0)\n",
        "        out.append(torch.cat((r_channel, g_channel, b_channel), dim=0).unsqueeze(0))\n",
        "    return torch.cat(out, dim=0)"
      ]
    },
    {
      "cell_type": "markdown",
      "metadata": {},
      "source": [
        "# Function to run the randomization test"
      ]
    },
    {
      "cell_type": "code",
      "execution_count": 15,
      "metadata": {},
      "outputs": [],
      "source": [
        "\n",
        "def training_loop(model, num_epochs, train_loader, valid_loader, device, \n",
        "                  criterion, optimizer, scheduler, model_name, \n",
        "                  random_shuffle=False, shuffled_pixels=False, \n",
        "                  random_pixels=False, gaussian_noise=False):\n",
        "    train_losses, valid_losses = [], []\n",
        "    train_accs, valid_accs = [], []\n",
        "    highest_acc = 1e-10\n",
        "    rng = None\n",
        "    if random_pixels:\n",
        "        rng = np.random.default_rng()\n",
        "        \n",
        "    for epoch in range(num_epochs):\n",
        "        model.train()\n",
        "        train_loss, train_acc = run_train_single_epoch(\n",
        "            train_loader, model, device, criterion, optimizer, \n",
        "            random_shuffle, shuffled_pixels, random_pixels, gaussian_noise, rng)\n",
        "        model.eval()\n",
        "        valid_loss, valid_acc = run_validation_single_epoch(valid_loader, model, device, criterion)\n",
        "        print(\"[Epoch {}] Train Loss: {:.4f} Validation Loss: {:.4f} Train Acc: {:.4f} Validation Acc: {:.4f}\".format(\n",
        "              epoch + 1, train_loss, valid_loss, train_acc, valid_acc))\n",
        "        train_losses.append(train_loss)\n",
        "        valid_losses.append(valid_loss)\n",
        "        train_accs.append(train_acc)\n",
        "        valid_accs.append(valid_acc)\n",
        "        \n",
        "        if valid_acc > highest_acc:\n",
        "            torch.save(model.state_dict(), \"{}.pth\".format(model_name))\n",
        "            highest_acc = valid_acc\n",
        "        \n",
        "        scheduler.step()\n",
        "        \n",
        "    print('Finished Training')\n",
        "    return train_losses, valid_losses, train_accs, valid_accs\n",
        "\n",
        "def run_train_single_epoch(train_loader, model, device, criterion, optimizer, \n",
        "                           random_shuffle, shuffled_pixels, random_pixels, gaussian_noise, rng):\n",
        "    running_loss = 0.0\n",
        "    num_correct = 0\n",
        "    for batch_num, data in enumerate(train_loader):\n",
        "        inputs, labels = data[0].to(device), data[1].to(device)\n",
        "        if random_shuffle:\n",
        "            torch.manual_seed(0)\n",
        "            labels = labels[torch.randperm(len(labels))]\n",
        "        if shuffled_pixels:\n",
        "            data_ = inputs.cpu().numpy()\n",
        "            rng = np.random.default_rng(26)\n",
        "            data_perm = rng.permutation(data_, axis=2)\n",
        "            inputs = torch.from_numpy(data_perm).to(device)\n",
        "        if random_pixels:\n",
        "            data_ = inputs.cpu().numpy()\n",
        "            data_perm = rng.permutation(data_, axis=2)\n",
        "            inputs = torch.from_numpy(data_perm).to(device)\n",
        "        if gaussian_noise:\n",
        "            batch = inputs.shape[0]\n",
        "            w = inputs.shape[-1]\n",
        "            h = inputs.shape[-2]\n",
        "            inputs = get_gaussian_image(batch, w, h).to(device)\n",
        "\n",
        "        optimizer.zero_grad()\n",
        "        outputs = model(inputs)\n",
        "        loss = criterion(outputs, labels)\n",
        "        loss.backward()\n",
        "        optimizer.step()\n",
        "        running_loss += loss.item() * len(inputs)\n",
        "        if batch_num % 200 == 0:\n",
        "            print(\"Batch {} Loss: {:.4f}\".format(batch_num, loss.item()))\n",
        "        preds = outputs.argmax(1)\n",
        "        num_correct += (preds == labels).sum().item()\n",
        "    epoch_loss = running_loss / len(train_loader.sampler)\n",
        "    epoch_acc = num_correct / len(train_loader.sampler)\n",
        "    return epoch_loss, epoch_acc\n",
        "\n",
        "def run_validation_single_epoch(valid_loader, model, device, criterion):\n",
        "    running_loss = 0.0\n",
        "    num_correct = 0\n",
        "    for batch_num, data in enumerate(valid_loader):\n",
        "        inputs, labels = data[0].to(device), data[1].to(device)\n",
        "        outputs = model(inputs)\n",
        "        loss = criterion(outputs, labels)\n",
        "        running_loss += loss.item() * len(inputs)\n",
        "        preds = outputs.argmax(1)\n",
        "        num_correct += (preds == labels).sum().item()\n",
        "    epoch_loss = running_loss / len(valid_loader.sampler)\n",
        "    epoch_acc = num_correct / len(valid_loader.sampler)\n",
        "    return epoch_loss, epoch_acc\n"
      ]
    },
    {
      "cell_type": "markdown",
      "metadata": {},
      "source": [
        "# Function to plot the results"
      ]
    },
    {
      "cell_type": "code",
      "execution_count": 16,
      "metadata": {},
      "outputs": [],
      "source": [
        "def plot_losses(training_loss_arr, validation_loss_arr, training_acc_arr, validation_acc_arr, \\\n",
        "                title):\n",
        "    num_epochs = len(training_loss_arr)\n",
        "    plt.figure(figsize=(16,6))\n",
        "    plt.subplot(1,2,1)\n",
        "    ax = plt.gca()\n",
        "    ax.plot(range(num_epochs), training_loss_arr, '-bo', label=\"Training Loss\")\n",
        "    ax.plot(range(num_epochs), validation_loss_arr, '-ro', label=\"Validation Loss\")\n",
        "    ax.legend()\n",
        "    ax.set_xlabel(\"Epochs\")\n",
        "    ax.set_ylabel(\"Loss\")\n",
        "    ax.set_title(title)\n",
        "    plt.subplot(1,2,2)\n",
        "    ax = plt.gca()\n",
        "    ax.plot(range(num_epochs), training_acc_arr, '-bo', label=\"Training Acc\")\n",
        "    ax.plot(range(num_epochs), validation_acc_arr, '-ro', label=\"Validation Acc\")\n",
        "    ax.legend()\n",
        "    ax.set_xlabel(\"Epochs\")\n",
        "    ax.set_ylabel(\"Accuracy\")\n",
        "    ax.set_title(title)    "
      ]
    },
    {
      "cell_type": "markdown",
      "metadata": {},
      "source": [
        "Declare a dictionary where is the probability of each class be changed, for example, if we want to change the probability of the class 0 be changed we can use the following dictionary:s"
      ]
    },
    {
      "cell_type": "code",
      "execution_count": 17,
      "metadata": {},
      "outputs": [],
      "source": [
        "final_dict = dict()"
      ]
    },
    {
      "cell_type": "markdown",
      "metadata": {},
      "source": [
        "# Test Shuffle Pixels"
      ]
    },
    {
      "cell_type": "code",
      "execution_count": 18,
      "metadata": {
        "colab": {
          "base_uri": "https://localhost:8080/"
        },
        "id": "eodRzVV1CJkM",
        "outputId": "4083169b-a691-43d8-fd26-aaccbd97a438"
      },
      "outputs": [
        {
          "name": "stdout",
          "output_type": "stream",
          "text": [
            "Batch 0 Loss: 2.2631\n",
            "Batch 200 Loss: 2.3173\n",
            "Batch 400 Loss: 2.3181\n",
            "Batch 600 Loss: 2.2843\n",
            "Batch 800 Loss: 2.3081\n",
            "Batch 1000 Loss: 2.3180\n",
            "Batch 1200 Loss: 2.3582\n",
            "Batch 1400 Loss: 2.3041\n",
            "[Epoch 1] Train Loss: 2.5360 Validation Loss: 2.3850 Train Acc: 0.1056 Validation Acc: 0.1009\n",
            "Batch 0 Loss: 2.3708\n",
            "Batch 200 Loss: 2.3146\n",
            "Batch 400 Loss: 2.2959\n",
            "Batch 600 Loss: 2.2578\n",
            "Batch 800 Loss: 2.3159\n",
            "Batch 1000 Loss: 2.1845\n",
            "Batch 1200 Loss: 1.9844\n",
            "Batch 1400 Loss: 2.0712\n",
            "[Epoch 2] Train Loss: 2.2233 Validation Loss: 2.5177 Train Acc: 0.1434 Validation Acc: 0.1588\n",
            "Batch 0 Loss: 2.0725\n",
            "Batch 200 Loss: 2.0911\n",
            "Batch 400 Loss: 1.8821\n",
            "Batch 600 Loss: 1.9173\n",
            "Batch 800 Loss: 1.7699\n",
            "Batch 1000 Loss: 2.0680\n",
            "Batch 1200 Loss: 1.6538\n",
            "Batch 1400 Loss: 1.6467\n",
            "[Epoch 3] Train Loss: 1.9440 Validation Loss: 2.2889 Train Acc: 0.2643 Validation Acc: 0.2320\n",
            "Batch 0 Loss: 1.6196\n",
            "Batch 200 Loss: 1.8292\n",
            "Batch 400 Loss: 2.0213\n",
            "Batch 600 Loss: 1.7486\n",
            "Batch 800 Loss: 1.5537\n",
            "Batch 1000 Loss: 1.8471\n",
            "Batch 1200 Loss: 1.8505\n",
            "Batch 1400 Loss: 1.4825\n",
            "[Epoch 4] Train Loss: 1.7933 Validation Loss: 2.5722 Train Acc: 0.3236 Validation Acc: 0.2265\n",
            "Batch 0 Loss: 1.6792\n",
            "Batch 200 Loss: 1.7435\n",
            "Batch 400 Loss: 1.7376\n",
            "Batch 600 Loss: 1.7003\n",
            "Batch 800 Loss: 1.6525\n",
            "Batch 1000 Loss: 1.6416\n",
            "Batch 1200 Loss: 1.5665\n",
            "Batch 1400 Loss: 1.7356\n",
            "[Epoch 5] Train Loss: 1.7059 Validation Loss: 2.6435 Train Acc: 0.3669 Validation Acc: 0.1996\n",
            "Batch 0 Loss: 1.4778\n"
          ]
        }
      ],
      "source": [
        "model = InceptionNet().to(device)\n",
        "optimizer = torch.optim.SGD(model.parameters(), lr=0.1, momentum=0.9)\n",
        "scheduler = torch.optim.lr_scheduler.StepLR(optimizer, 1, gamma=0.95)\n",
        "criterion = nn.CrossEntropyLoss()\n",
        "train_losses, valid_losses, train_accs, valid_accs = training_loop(train_loader=trainloader, valid_loader=testloader, model=model, device=device, criterion=criterion, optimizer=optimizer, scheduler=scheduler, num_epochs=100, model_name='Shuffled_pixels', shuffled_pixels=True)"
      ]
    },
    {
      "cell_type": "code",
      "execution_count": null,
      "metadata": {},
      "outputs": [
        {
          "data": {
            "image/png": "[encoded data removed]",
            "text/plain": [
              "<Figure size 1600x600 with 2 Axes>"
            ]
          },
          "metadata": {},
          "output_type": "display_data"
        }
      ],
      "source": [
        "plot_losses(train_losses, valid_losses,train_accs, valid_accs, \"InceptionNet Shuffled Pixels\")"
      ]
    },
    {
      "cell_type": "code",
      "execution_count": null,
      "metadata": {},
      "outputs": [],
      "source": [
        "final_dict['shuffled_pixels']={}\n",
        "final_dict['shuffled_pixels']['train_losses'] = train_losses\n",
        "final_dict['shuffled_pixels']['valid_losses'] = valid_losses\n",
        "final_dict['shuffled_pixels']['train_accs'] = train_accs\n",
        "final_dict['shuffled_pixels']['valid_accs'] = valid_accs"
      ]
    },
    {
      "cell_type": "markdown",
      "metadata": {},
      "source": [
        "# Test Random Pixels"
      ]
    },
    {
      "cell_type": "code",
      "execution_count": null,
      "metadata": {},
      "outputs": [],
      "source": [
        "model = InceptionNet().to(device)\n",
        "optimizer = torch.optim.SGD(model.parameters(), lr=0.1, momentum=0.9)\n",
        "scheduler = torch.optim.lr_scheduler.StepLR(optimizer, 1, gamma=0.95)\n",
        "criterion = nn.CrossEntropyLoss()\n",
        "train_losses, valid_losses, train_accs, valid_accs = training_loop(train_loader=trainloader, valid_loader=testloader, model=model, device=device, criterion=criterion, optimizer=optimizer, scheduler=scheduler, num_epochs=100, model_name='Random_pixels', random_pixels=True)"
      ]
    },
    {
      "cell_type": "code",
      "execution_count": null,
      "metadata": {},
      "outputs": [],
      "source": [
        "plot_losses(train_losses, valid_losses,train_accs, valid_accs, \"InceptionNet Random Pixels\")"
      ]
    },
    {
      "cell_type": "code",
      "execution_count": null,
      "metadata": {},
      "outputs": [],
      "source": [
        "final_dict['random_pixels']={}\n",
        "final_dict['random_pixels']['train_losses'] = train_losses\n",
        "final_dict['random_pixels']['valid_losses'] = valid_losses\n",
        "final_dict['random_pixels']['train_accs'] = train_accs\n",
        "final_dict['random_pixels']['valid_accs'] = valid_accs"
      ]
    },
    {
      "cell_type": "markdown",
      "metadata": {},
      "source": [
        "# Test Gaussian Noise"
      ]
    },
    {
      "cell_type": "code",
      "execution_count": null,
      "metadata": {},
      "outputs": [],
      "source": [
        "model = InceptionNet().to(device)\n",
        "optimizer = torch.optim.SGD(model.parameters(), lr=0.1, momentum=0.9)\n",
        "scheduler = torch.optim.lr_scheduler.StepLR(optimizer, 1, gamma=0.95)\n",
        "criterion = nn.CrossEntropyLoss()\n",
        "train_losses, valid_losses, train_accs, valid_accs = training_loop(train_loader=trainloader, valid_loader=testloader, model=model, device=device, criterion=criterion, optimizer=optimizer, scheduler=scheduler, num_epochs=100, model_name='Gaussian_noise', random_pixels=True)"
      ]
    },
    {
      "cell_type": "code",
      "execution_count": null,
      "metadata": {},
      "outputs": [],
      "source": [
        "plot_losses(train_losses, valid_losses,train_accs, valid_accs, \"InceptionNet Gaussian Noise\")"
      ]
    },
    {
      "cell_type": "code",
      "execution_count": null,
      "metadata": {},
      "outputs": [],
      "source": [
        "final_dict['gaussian_noise']={}\n",
        "final_dict['gaussian_noise']['train_losses'] = train_losses\n",
        "final_dict['gaussian_noise']['valid_losses'] = valid_losses\n",
        "final_dict['gaussian_noise']['train_accs'] = train_accs\n",
        "final_dict['gaussian_noise']['valid_accs'] = valid_accs"
      ]
    },
    {
      "cell_type": "markdown",
      "metadata": {},
      "source": [
        "# Save the results"
      ]
    },
    {
      "cell_type": "code",
      "execution_count": null,
      "metadata": {},
      "outputs": [],
      "source": [
        "with open('final_input.pickle', 'wb') as f:\n",
        "    pickle.dump(final_dict, f, protocol=pickle.HIGHEST_PROTOCOL)"
      ]
    }
  ],
  "metadata": {
    "accelerator": "GPU",
    "colab": {
      "name": "Effect_of_labels_CIFAR10_InceptionSmall.ipynb",
      "provenance": []
    },
    "kernelspec": {
      "display_name": "Python 3",
      "name": "python3"
    },
    "language_info": {
      "codemirror_mode": {
        "name": "ipython",
        "version": 3
      },
      "file_extension": ".py",
      "mimetype": "text/x-python",
      "name": "python",
      "nbconvert_exporter": "python",
      "pygments_lexer": "ipython3",
      "version": "3.11.4"
    },
    "widgets": {
      "application/vnd.jupyter.widget-state+json": {
        "01b8dfa64a9c4e67a32d9bb2d06b1407": {
          "model_module": "@jupyter-widgets/base",
          "model_name": "LayoutModel",
          "state": {
            "_model_module": "@jupyter-widgets/base",
            "_model_module_version": "1.2.0",
            "_model_name": "LayoutModel",
            "_view_count": null,
            "_view_module": "@jupyter-widgets/base",
            "_view_module_version": "1.2.0",
            "_view_name": "LayoutView",
            "align_content": null,
            "align_items": null,
            "align_self": null,
            "border": null,
            "bottom": null,
            "display": null,
            "flex": null,
            "flex_flow": null,
            "grid_area": null,
            "grid_auto_columns": null,
            "grid_auto_flow": null,
            "grid_auto_rows": null,
            "grid_column": null,
            "grid_gap": null,
            "grid_row": null,
            "grid_template_areas": null,
            "grid_template_columns": null,
            "grid_template_rows": null,
            "height": null,
            "justify_content": null,
            "justify_items": null,
            "left": null,
            "margin": null,
            "max_height": null,
            "max_width": null,
            "min_height": null,
            "min_width": null,
            "object_fit": null,
            "object_position": null,
            "order": null,
            "overflow": null,
            "overflow_x": null,
            "overflow_y": null,
            "padding": null,
            "right": null,
            "top": null,
            "visibility": null,
            "width": null
          }
        },
        "23b8d28c0aba41f5997da5169127d7ab": {
          "model_module": "@jupyter-widgets/controls",
          "model_name": "HBoxModel",
          "state": {
            "_dom_classes": [],
            "_model_module": "@jupyter-widgets/controls",
            "_model_module_version": "1.5.0",
            "_model_name": "HBoxModel",
            "_view_count": null,
            "_view_module": "@jupyter-widgets/controls",
            "_view_module_version": "1.5.0",
            "_view_name": "HBoxView",
            "box_style": "",
            "children": [
              "IPY_MODEL_2de01d1e700c4a42a616d66ce0396840",
              "IPY_MODEL_6f7e82e53b4045028da6cff4704d0cc9"
            ],
            "layout": "IPY_MODEL_01b8dfa64a9c4e67a32d9bb2d06b1407"
          }
        },
        "2de01d1e700c4a42a616d66ce0396840": {
          "model_module": "@jupyter-widgets/controls",
          "model_name": "FloatProgressModel",
          "state": {
            "_dom_classes": [],
            "_model_module": "@jupyter-widgets/controls",
            "_model_module_version": "1.5.0",
            "_model_name": "FloatProgressModel",
            "_view_count": null,
            "_view_module": "@jupyter-widgets/controls",
            "_view_module_version": "1.5.0",
            "_view_name": "ProgressView",
            "bar_style": "success",
            "description": "",
            "description_tooltip": null,
            "layout": "IPY_MODEL_95dd8bc786ca4aa588a4b54fdb2b349c",
            "max": 170498071,
            "min": 0,
            "orientation": "horizontal",
            "style": "IPY_MODEL_408c14aabf184ea78ef234c26b7c9eb7",
            "value": 170498071
          }
        },
        "408c14aabf184ea78ef234c26b7c9eb7": {
          "model_module": "@jupyter-widgets/controls",
          "model_name": "ProgressStyleModel",
          "state": {
            "_model_module": "@jupyter-widgets/controls",
            "_model_module_version": "1.5.0",
            "_model_name": "ProgressStyleModel",
            "_view_count": null,
            "_view_module": "@jupyter-widgets/base",
            "_view_module_version": "1.2.0",
            "_view_name": "StyleView",
            "bar_color": null,
            "description_width": "initial"
          }
        },
        "45371e2d62bc4d36b58e3479064fb964": {
          "model_module": "@jupyter-widgets/base",
          "model_name": "LayoutModel",
          "state": {
            "_model_module": "@jupyter-widgets/base",
            "_model_module_version": "1.2.0",
            "_model_name": "LayoutModel",
            "_view_count": null,
            "_view_module": "@jupyter-widgets/base",
            "_view_module_version": "1.2.0",
            "_view_name": "LayoutView",
            "align_content": null,
            "align_items": null,
            "align_self": null,
            "border": null,
            "bottom": null,
            "display": null,
            "flex": null,
            "flex_flow": null,
            "grid_area": null,
            "grid_auto_columns": null,
            "grid_auto_flow": null,
            "grid_auto_rows": null,
            "grid_column": null,
            "grid_gap": null,
            "grid_row": null,
            "grid_template_areas": null,
            "grid_template_columns": null,
            "grid_template_rows": null,
            "height": null,
            "justify_content": null,
            "justify_items": null,
            "left": null,
            "margin": null,
            "max_height": null,
            "max_width": null,
            "min_height": null,
            "min_width": null,
            "object_fit": null,
            "object_position": null,
            "order": null,
            "overflow": null,
            "overflow_x": null,
            "overflow_y": null,
            "padding": null,
            "right": null,
            "top": null,
            "visibility": null,
            "width": null
          }
        },
        "5c81bd4d40344c35b48021ab4ca335e4": {
          "model_module": "@jupyter-widgets/controls",
          "model_name": "DescriptionStyleModel",
          "state": {
            "_model_module": "@jupyter-widgets/controls",
            "_model_module_version": "1.5.0",
            "_model_name": "DescriptionStyleModel",
            "_view_count": null,
            "_view_module": "@jupyter-widgets/base",
            "_view_module_version": "1.2.0",
            "_view_name": "StyleView",
            "description_width": ""
          }
        },
        "6f7e82e53b4045028da6cff4704d0cc9": {
          "model_module": "@jupyter-widgets/controls",
          "model_name": "HTMLModel",
          "state": {
            "_dom_classes": [],
            "_model_module": "@jupyter-widgets/controls",
            "_model_module_version": "1.5.0",
            "_model_name": "HTMLModel",
            "_view_count": null,
            "_view_module": "@jupyter-widgets/controls",
            "_view_module_version": "1.5.0",
            "_view_name": "HTMLView",
            "description": "",
            "description_tooltip": null,
            "layout": "IPY_MODEL_45371e2d62bc4d36b58e3479064fb964",
            "placeholder": "​",
            "style": "IPY_MODEL_5c81bd4d40344c35b48021ab4ca335e4",
            "value": " 170499072/? [02:02&lt;00:00, 1390235.00it/s]"
          }
        },
        "95dd8bc786ca4aa588a4b54fdb2b349c": {
          "model_module": "@jupyter-widgets/base",
          "model_name": "LayoutModel",
          "state": {
            "_model_module": "@jupyter-widgets/base",
            "_model_module_version": "1.2.0",
            "_model_name": "LayoutModel",
            "_view_count": null,
            "_view_module": "@jupyter-widgets/base",
            "_view_module_version": "1.2.0",
            "_view_name": "LayoutView",
            "align_content": null,
            "align_items": null,
            "align_self": null,
            "border": null,
            "bottom": null,
            "display": null,
            "flex": null,
            "flex_flow": null,
            "grid_area": null,
            "grid_auto_columns": null,
            "grid_auto_flow": null,
            "grid_auto_rows": null,
            "grid_column": null,
            "grid_gap": null,
            "grid_row": null,
            "grid_template_areas": null,
            "grid_template_columns": null,
            "grid_template_rows": null,
            "height": null,
            "justify_content": null,
            "justify_items": null,
            "left": null,
            "margin": null,
            "max_height": null,
            "max_width": null,
            "min_height": null,
            "min_width": null,
            "object_fit": null,
            "object_position": null,
            "order": null,
            "overflow": null,
            "overflow_x": null,
            "overflow_y": null,
            "padding": null,
            "right": null,
            "top": null,
            "visibility": null,
            "width": null
          }
        }
      }
    }
  },
  "nbformat": 4,
  "nbformat_minor": 0
}
